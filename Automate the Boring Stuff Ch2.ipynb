{
 "cells": [
  {
   "cell_type": "code",
   "execution_count": null,
   "metadata": {},
   "outputs": [],
   "source": [
    "#Guess the secret number game\n",
    "\n",
    "import random\n",
    "secret_number = random.randint(1,20)\n",
    "print(\"I am thinking of a number between 1 and 20.\")\n",
    "#Ask the player to guess\n",
    "for guesses_taken in range (1,7):\n",
    "    print('Take a guess.')\n",
    "    guess = int(input())\n",
    "    \n",
    "    if guess < secret_number:\n",
    "        print('guess is too low')\n",
    "    elif guess > secret_number:\n",
    "        print('guess is too high')\n",
    "    else:\n",
    "        break\n",
    "if guess == secret_number:\n",
    "    print('Good job you have correctly guessed the secret number in ' + str(guesses_taken) + 'guesses')\n",
    "else:\n",
    "    print('Nope you ran out of guesses. The secret number was ' + str(secret_number))"
   ]
  },
  {
   "cell_type": "code",
   "execution_count": null,
   "metadata": {},
   "outputs": [],
   "source": []
  },
  {
   "cell_type": "code",
   "execution_count": null,
   "metadata": {},
   "outputs": [],
   "source": []
  }
 ],
 "metadata": {
  "kernelspec": {
   "display_name": "Python 3",
   "language": "python",
   "name": "python3"
  },
  "language_info": {
   "codemirror_mode": {
    "name": "ipython",
    "version": 3
   },
   "file_extension": ".py",
   "mimetype": "text/x-python",
   "name": "python",
   "nbconvert_exporter": "python",
   "pygments_lexer": "ipython3",
   "version": "3.7.6"
  }
 },
 "nbformat": 4,
 "nbformat_minor": 4
}
