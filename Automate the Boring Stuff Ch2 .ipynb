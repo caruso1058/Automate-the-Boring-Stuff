{
 "cells": [
  {
   "cell_type": "markdown",
   "metadata": {},
   "source": [
    "# Guess the secret number game"
   ]
  },
  {
   "cell_type": "code",
   "execution_count": null,
   "metadata": {},
   "outputs": [],
   "source": [
    "import random\n",
    "secret_number = random.randint(1,20)\n",
    "print(\"I am thinking of a number between 1 and 20.\")\n",
    "#Ask the player to guess\n",
    "for guesses_taken in range (1,7):\n",
    "    print('Take a guess.')\n",
    "    guess = int(input())\n",
    "    \n",
    "    if guess < secret_number:\n",
    "        print('guess is too low')\n",
    "    elif guess > secret_number:\n",
    "        print('guess is too high')\n",
    "    else:\n",
    "        break #This condition is the correct guess\n",
    "if guess == secret_number:\n",
    "    print('Good job you have correctly guessed the secret number in ' + str(guesses_taken) + 'guesses')\n",
    "else:\n",
    "    print('Nope you ran out of guesses. The secret number was ' + str(secret_number))"
   ]
  },
  {
   "cell_type": "markdown",
   "metadata": {},
   "source": [
    "# Rock Paper Scissors"
   ]
  },
  {
   "cell_type": "code",
   "execution_count": null,
   "metadata": {},
   "outputs": [],
   "source": [
    "import random, sys\n",
    "print('ROCK, PAPER, SCISSORS')\n",
    "\n",
    "#These variables keep track of the number of wins, losses, and ties\n",
    "wins = 0\n",
    "losses = 0\n",
    "ties = 0\n",
    "\n",
    "while True: #the main game loop\n",
    "    print('%s Wins, %s Losses, %s Ties' % (wins, losses, ties))\n",
    "    while True: #the player input loop\n",
    "        print('Enter your move: (r)ock (p)aper (s)cissors or (q)uit')\n",
    "        playermove = input()\n",
    "        if playermove == 'q':\n",
    "            sys.exit() #quits the program\n",
    "        if playermove == 'r' or playermove == 'p' or playermove == 's':\n",
    "            break #break out of the player loop\n",
    "        print ('Type a valid key: r p s or q')\n",
    "        \n",
    "    #display what the player chose:\n",
    "    if playermove == 'r':\n",
    "        print('ROCK vs...')\n",
    "    elif playermove == 'p':\n",
    "        print('PAPER vs ...')\n",
    "    elif playermove == 's':\n",
    "        print('SCISSORS vs ...')\n",
    "        \n",
    "    #display what the computer chose \n",
    "    random_number = random.randint(1,3)\n",
    "    if random_number == 1:\n",
    "        computer_move = 'r'\n",
    "        print('ROCK')\n",
    "    elif random_number == 2:\n",
    "        computer_move = 'p'\n",
    "        print('PAPER')\n",
    "    elif random_number == 3:\n",
    "        computer_move = 's'\n",
    "        print('SCISSORS')\n",
    "        \n",
    "    #Display and record the wins loses and ties\n",
    "    \n",
    "    if playermove == computer_move:\n",
    "        print('It\\'s a tie')\n",
    "        ties = ties + 1\n",
    "    elif playermove == 'r' and computer_move == 's':\n",
    "        print ('You WIN!')\n",
    "        wins = wins + 1 \n",
    "    elif playermove == 'p' and computer_move == 'r':\n",
    "        print ('You WIN!')\n",
    "        wins += 1\n",
    "    elif playermove == 's' and computer_move == 'p':\n",
    "        print ('You WIN!')\n",
    "        wins += 1\n",
    "    elif playermove == 'r' and computer_move == 'p':\n",
    "        print(\"You Lose :(\")\n",
    "        losses += 1\n",
    "    elif playermove == 'p' and computer_move == 's':\n",
    "        print(\"You Lose :(\")\n",
    "        losses += 1\n",
    "    elif playermove == 's' and computer_move == 'r':\n",
    "        print(\"You Lose :(\")\n",
    "        losses += 1"
   ]
  },
  {
   "cell_type": "code",
   "execution_count": null,
   "metadata": {},
   "outputs": [],
   "source": []
  }
 ],
 "metadata": {
  "kernelspec": {
   "display_name": "Python 3",
   "language": "python",
   "name": "python3"
  },
  "language_info": {
   "codemirror_mode": {
    "name": "ipython",
    "version": 3
   },
   "file_extension": ".py",
   "mimetype": "text/x-python",
   "name": "python",
   "nbconvert_exporter": "python",
   "pygments_lexer": "ipython3",
   "version": "3.7.6"
  }
 },
 "nbformat": 4,
 "nbformat_minor": 4
}
