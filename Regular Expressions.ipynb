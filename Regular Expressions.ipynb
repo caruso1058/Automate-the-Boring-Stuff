{
 "cells": [
  {
   "cell_type": "code",
   "execution_count": 2,
   "metadata": {},
   "outputs": [
    {
     "name": "stdout",
     "output_type": "stream",
     "text": [
      "Collecting pyperclip\n",
      "  Downloading pyperclip-1.8.1.tar.gz (20 kB)\n",
      "Note: you may need to restart the kernel to use updated packages.\n",
      "Building wheels for collected packages: pyperclip\n",
      "  Building wheel for pyperclip (setup.py): started\n",
      "  Building wheel for pyperclip (setup.py): finished with status 'done'\n",
      "  Created wheel for pyperclip: filename=pyperclip-1.8.1-py3-none-any.whl size=11124 sha256=50979ee6163cc710a0ea1ccad35f4ce2e0d3a8f822a2b82dcb12d1acf12adddd\n",
      "  Stored in directory: c:\\users\\julescaruso\\appdata\\local\\pip\\cache\\wheels\\67\\0c\\ba\\1468f38115898442e13f99a19a8dcf1e0ca73488053ef7b388\n",
      "Successfully built pyperclip\n",
      "Installing collected packages: pyperclip\n",
      "Successfully installed pyperclip-1.8.1\n"
     ]
    }
   ],
   "source": [
    "pip install pyperclip"
   ]
  },
  {
   "cell_type": "code",
   "execution_count": 12,
   "metadata": {},
   "outputs": [
    {
     "name": "stdout",
     "output_type": "stream",
     "text": [
      "Phone Number Found: 412-555-5555\n"
     ]
    }
   ],
   "source": [
    "# import re ---- re is python's regular expression package\n",
    "\n",
    "import re\n",
    "\n",
    "#passing a string value to the re.compile() returns a regex pattern\n",
    "\n",
    "basicPhoneMatch = re.compile(r'\\d\\d\\d-\\d\\d\\d-\\d\\d\\d\\d')\n",
    "\n",
    "#regex search() method is used to retrieve your regex function\n",
    "\n",
    "testBasic = basicPhoneMatch.search('My phone number is 412-555-5555.')\n",
    "\n",
    "print('Phone Number Found: ' + testBasic.group())"
   ]
  },
  {
   "cell_type": "code",
   "execution_count": null,
   "metadata": {},
   "outputs": [],
   "source": [
    "#Pass the desired pattern to re.compile()\n",
    "#Store the result in basicPhoneMatch\n",
    "#Then call the .search() on the desired string to search\n",
    "#Then call .group() on the stored variable to return the match"
   ]
  },
  {
   "cell_type": "code",
   "execution_count": 13,
   "metadata": {},
   "outputs": [],
   "source": [
    "#adding () in the regular expression will define groups \n",
    "#you can call the groups with a simple 1, 2, 3 etc in the .group() to pull specific groupings found in the expression"
   ]
  },
  {
   "cell_type": "code",
   "execution_count": 19,
   "metadata": {},
   "outputs": [
    {
     "data": {
      "text/plain": [
       "'412'"
      ]
     },
     "execution_count": 19,
     "metadata": {},
     "output_type": "execute_result"
    }
   ],
   "source": [
    "#Grouping Example\n",
    "\n",
    "phoneNumRegex = re.compile(r'(\\d\\d\\d)-(\\d\\d\\d-\\d\\d\\d\\d)')\n",
    "mo = phoneNumRegex.search('My number is 412-555-5552.')\n",
    "mo.group(1)"
   ]
  },
  {
   "cell_type": "code",
   "execution_count": 20,
   "metadata": {},
   "outputs": [
    {
     "data": {
      "text/plain": [
       "'555-5552'"
      ]
     },
     "execution_count": 20,
     "metadata": {},
     "output_type": "execute_result"
    }
   ],
   "source": [
    "mo.group(2)"
   ]
  },
  {
   "cell_type": "code",
   "execution_count": 21,
   "metadata": {},
   "outputs": [
    {
     "data": {
      "text/plain": [
       "'412-555-5552'"
      ]
     },
     "execution_count": 21,
     "metadata": {},
     "output_type": "execute_result"
    }
   ],
   "source": [
    "mo.group()"
   ]
  },
  {
   "cell_type": "code",
   "execution_count": 29,
   "metadata": {},
   "outputs": [
    {
     "name": "stdout",
     "output_type": "stream",
     "text": [
      "412\n",
      "555-5552\n"
     ]
    }
   ],
   "source": [
    "areaCode, mainNumber = mo.groups()\n",
    "print(areaCode)\n",
    "print(mainNumber "
   ]
  },
  {
   "cell_type": "code",
   "execution_count": 34,
   "metadata": {},
   "outputs": [
    {
     "data": {
      "text/plain": [
       "'(412)'"
      ]
     },
     "execution_count": 34,
     "metadata": {},
     "output_type": "execute_result"
    }
   ],
   "source": [
    "phoneNumRegex = re.compile(r'(\\(\\d\\d\\d\\)) (\\d\\d\\d-\\d\\d\\d\\d)')\n",
    "mo = phoneNumRegex.search('My number is (412) 555-6423.')\n",
    "mo.group(1)"
   ]
  },
  {
   "cell_type": "code",
   "execution_count": 41,
   "metadata": {},
   "outputs": [
    {
     "data": {
      "text/plain": [
       "'Batman'"
      ]
     },
     "execution_count": 41,
     "metadata": {},
     "output_type": "execute_result"
    }
   ],
   "source": [
    "#Pipe | represents or\n",
    "\n",
    "batregex = re.compile(r'Batman|Tina')\n",
    "mo1 = batregex.search('Batman , Tina')\n",
    "mo1.group()"
   ]
  },
  {
   "cell_type": "code",
   "execution_count": 47,
   "metadata": {},
   "outputs": [
    {
     "data": {
      "text/plain": [
       "'Batman'"
      ]
     },
     "execution_count": 47,
     "metadata": {},
     "output_type": "execute_result"
    }
   ],
   "source": [
    "# * match 0 or more\n",
    "# + match 1 or more\n",
    "#Example\n",
    "batRegex = re.compile(r'Bat(wo)*man')\n",
    "mo2 = batRegex.search('The adventures of Batman')\n",
    "mo2.group()"
   ]
  },
  {
   "cell_type": "code",
   "execution_count": 53,
   "metadata": {},
   "outputs": [
    {
     "data": {
      "text/plain": [
       "True"
      ]
     },
     "execution_count": 53,
     "metadata": {},
     "output_type": "execute_result"
    }
   ],
   "source": [
    "batRegex = re.compile(r'Bat(wo)+man')\n",
    "mo2 = batRegex.search('The adventures of Batman')\n",
    "#mo2.group()\n",
    "mo2 == None"
   ]
  },
  {
   "cell_type": "code",
   "execution_count": 61,
   "metadata": {},
   "outputs": [
    {
     "data": {
      "text/plain": [
       "'HaHaHa'"
      ]
     },
     "execution_count": 61,
     "metadata": {},
     "output_type": "execute_result"
    }
   ],
   "source": [
    "haRegex = re.compile(r'(Ha){3}')\n",
    "mo1 = haRegex.search('HaHaHa')\n",
    "mo1.group()"
   ]
  },
  {
   "cell_type": "code",
   "execution_count": 62,
   "metadata": {},
   "outputs": [
    {
     "data": {
      "text/plain": [
       "['206-345-3456', '206-789-0987']"
      ]
     },
     "execution_count": 62,
     "metadata": {},
     "output_type": "execute_result"
    }
   ],
   "source": [
    "#.search() returns the first result\n",
    "#.findall() returns a list of all found items\n",
    "\n",
    "phoneNumRegex = re.compile(r'\\d\\d\\d-\\d\\d\\d\\-\\d\\d\\d\\d')\n",
    "phoneNumRegex.findall('Cell: 206-345-3456 Work: 206-789-0987')"
   ]
  },
  {
   "cell_type": "code",
   "execution_count": null,
   "metadata": {},
   "outputs": [],
   "source": [
    "# \\d is shorthand for (0|1|2|3|4|5|6|7|8|9)\n",
    "xmasRegex = re.compile(r'\\d+\\s\\w+')\n",
    "\n",
    "#the above will match: \n",
    "#text that has one or more numeric digits (\\d+)\n",
    "#followed by whitespace character (\\s)\n",
    "#followed by one or more letter/digit/underscore character"
   ]
  },
  {
   "cell_type": "code",
   "execution_count": 63,
   "metadata": {},
   "outputs": [
    {
     "data": {
      "text/plain": [
       "['e', 'a', 'e', 'e', 'a', 'i', 'e', 'u', 'a', 'e', 'e', 'i', 'o']"
      ]
     },
     "execution_count": 63,
     "metadata": {},
     "output_type": "execute_result"
    }
   ],
   "source": [
    "#Creating your own character class\n",
    "\n",
    "vowelRegex = re.compile(r'[aeiouAEIOU]')\n",
    "vowelRegex.findall('we are learning regular expressions)\n",
    "\n",
    "#we can also create ranges of letters \n",
    "#FindThings = re.compile(r'[a-zA-Z0-9])"
   ]
  },
  {
   "cell_type": "code",
   "execution_count": 64,
   "metadata": {},
   "outputs": [
    {
     "data": {
      "text/plain": [
       "'RobocoP'"
      ]
     },
     "execution_count": 64,
     "metadata": {},
     "output_type": "execute_result"
    }
   ],
   "source": [
    "#How to make regular expression case insensitive\n",
    "\n",
    "#re.IGNORECASE or re.I\n",
    "robocop = re.compile(r'robocop', re.I)\n",
    "robocop.search('RobocoP is a hero').group()"
   ]
  },
  {
   "cell_type": "code",
   "execution_count": 65,
   "metadata": {},
   "outputs": [],
   "source": [
    "import pyperclip, re\n",
    "\n",
    "phoneRegex = re.compile(r'''(\n",
    "            (\\d{3}|\\(d{3}\\))?               #Area Code or Area Code in () Area Code Optional - ?\n",
    "            (\\s|-|\\.)?                      #separator - space hyphen or period\n",
    "            (\\d{3})                         #first three digits\n",
    "            (\\s|-|\\.)                       #separator\n",
    "            (\\d{4})                         #last four digits\n",
    "            (\\s*(ext|x|ext.)\\s*(\\d{2,5}))?  #extension 2 to 5 digits long\n",
    "            )''', re.VERBOSE)"
   ]
  },
  {
   "cell_type": "code",
   "execution_count": 70,
   "metadata": {},
   "outputs": [],
   "source": [
    "emailRegex = re.compile(r'''(\n",
    "                [a-zA-Z0-9._%+-]+          #user name (one or more characters (+) that can also include the following characters . _ % + -)\n",
    "                @                          #@ symbol\n",
    "                [a-zA-Z0-9.-]+             #domain name\n",
    "                (\\.[a-zA-Z{2,4}])          #dot something\n",
    "                )''', re.VERBOSE)          #case insensitive\n",
    "                         "
   ]
  }
 ],
 "metadata": {
  "kernelspec": {
   "display_name": "Python 3",
   "language": "python",
   "name": "python3"
  },
  "language_info": {
   "codemirror_mode": {
    "name": "ipython",
    "version": 3
   },
   "file_extension": ".py",
   "mimetype": "text/x-python",
   "name": "python",
   "nbconvert_exporter": "python",
   "pygments_lexer": "ipython3",
   "version": "3.8.5"
  }
 },
 "nbformat": 4,
 "nbformat_minor": 4
}
