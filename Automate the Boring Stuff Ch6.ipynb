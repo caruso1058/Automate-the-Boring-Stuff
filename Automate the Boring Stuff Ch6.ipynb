{
 "cells": [
  {
   "cell_type": "markdown",
   "metadata": {},
   "source": [
    "# Strings"
   ]
  },
  {
   "cell_type": "code",
   "execution_count": 8,
   "metadata": {},
   "outputs": [
    {
     "name": "stdout",
     "output_type": "stream",
     "text": [
      "This is Alice's cat\n",
      "This is Alice's cat\n"
     ]
    }
   ],
   "source": [
    "#The follwoing does not work:\n",
    "#print('This is Alice's cat')\n",
    "      \n",
    "#However this will\n",
    "      \n",
    "print(\"This is Alice's cat\")\n",
    "\n",
    "#and so will this\n",
    "\n",
    "print('This is Alice\\'s cat')\n",
    "\n",
    "#The \\ character is the escape character"
   ]
  },
  {
   "cell_type": "code",
   "execution_count": 9,
   "metadata": {},
   "outputs": [
    {
     "data": {
      "text/plain": [
       "\"Say hello to Bob's mother\""
      ]
     },
     "execution_count": 9,
     "metadata": {},
     "output_type": "execute_result"
    }
   ],
   "source": [
    "#how to use escape characters\n",
    "spam = 'Say hello to Bob\\'s mother'\n",
    "spam"
   ]
  },
  {
   "cell_type": "code",
   "execution_count": 41,
   "metadata": {},
   "outputs": [
    {
     "data": {
      "text/html": [
       "<div>\n",
       "<style scoped>\n",
       "    .dataframe tbody tr th:only-of-type {\n",
       "        vertical-align: middle;\n",
       "    }\n",
       "\n",
       "    .dataframe tbody tr th {\n",
       "        vertical-align: top;\n",
       "    }\n",
       "\n",
       "    .dataframe thead th {\n",
       "        text-align: right;\n",
       "    }\n",
       "</style>\n",
       "<table border=\"1\" class=\"dataframe\">\n",
       "  <thead>\n",
       "    <tr style=\"text-align: right;\">\n",
       "      <th></th>\n",
       "      <th>Escape_Characters</th>\n",
       "      <th>Prints_As</th>\n",
       "    </tr>\n",
       "  </thead>\n",
       "  <tbody>\n",
       "    <tr>\n",
       "      <th>0</th>\n",
       "      <td>\\'</td>\n",
       "      <td>Single quote</td>\n",
       "    </tr>\n",
       "    <tr>\n",
       "      <th>1</th>\n",
       "      <td>\\\"</td>\n",
       "      <td>Double quote</td>\n",
       "    </tr>\n",
       "    <tr>\n",
       "      <th>2</th>\n",
       "      <td>\\t</td>\n",
       "      <td>Tab</td>\n",
       "    </tr>\n",
       "    <tr>\n",
       "      <th>3</th>\n",
       "      <td>\\n</td>\n",
       "      <td>Newline</td>\n",
       "    </tr>\n",
       "    <tr>\n",
       "      <th>4</th>\n",
       "      <td>\\\\</td>\n",
       "      <td>Backslash</td>\n",
       "    </tr>\n",
       "  </tbody>\n",
       "</table>\n",
       "</div>"
      ],
      "text/plain": [
       "  Escape_Characters     Prints_As\n",
       "0                \\'  Single quote\n",
       "1                \\\"  Double quote\n",
       "2                \\t           Tab\n",
       "3                \\n       Newline\n",
       "4                \\\\     Backslash"
      ]
     },
     "execution_count": 41,
     "metadata": {},
     "output_type": "execute_result"
    }
   ],
   "source": [
    "#Escape Characters\n",
    "import pandas as pd\n",
    "import numpy as np\n",
    "escape = {'Escape_Characters': [str('\\\\')+str(\"'\"), str('\\\\') + str('\"'), '\\\\t', '\\\\n', str('\\\\' + str('\\\\'))], 'Prints_As':['Single quote', 'Double quote', 'Tab', 'Newline', 'Backslash']}\n",
    "df = pd.DataFrame(data=escape)\n",
    "df                               "
   ]
  },
  {
   "cell_type": "code",
   "execution_count": 43,
   "metadata": {},
   "outputs": [
    {
     "name": "stdout",
     "output_type": "stream",
     "text": [
      "Hello there!\n",
      "How are you?\n",
      "I'm doing fine\n"
     ]
    }
   ],
   "source": [
    "print('Hello there!\\nHow are you?\\nI\\'m doing fine')"
   ]
  },
  {
   "cell_type": "code",
   "execution_count": 44,
   "metadata": {},
   "outputs": [
    {
     "name": "stdout",
     "output_type": "stream",
     "text": [
      "That is Carol\\'s car\n"
     ]
    }
   ],
   "source": [
    "#Raw Strings r  completely ignore all escape characters\n",
    "\n",
    "print(r'That is Carol\\'s car')"
   ]
  },
  {
   "cell_type": "code",
   "execution_count": 45,
   "metadata": {},
   "outputs": [],
   "source": [
    "def spam():\n",
    "    '''This is a multiline comment to help\n",
    "    explain what spam() does.'''\n",
    "    print('Hello!')"
   ]
  },
  {
   "cell_type": "code",
   "execution_count": 46,
   "metadata": {},
   "outputs": [
    {
     "name": "stdout",
     "output_type": "stream",
     "text": [
      "Hello!\n"
     ]
    }
   ],
   "source": [
    "spam()"
   ]
  },
  {
   "cell_type": "code",
   "execution_count": 47,
   "metadata": {},
   "outputs": [
    {
     "data": {
      "text/plain": [
       "'hello'"
      ]
     },
     "execution_count": 47,
     "metadata": {},
     "output_type": "execute_result"
    }
   ],
   "source": [
    "# Slicing stings\n",
    "\n",
    "spam ='hello world!'\n",
    "fizz = spam[0:5]\n",
    "fizz"
   ]
  },
  {
   "cell_type": "code",
   "execution_count": 48,
   "metadata": {},
   "outputs": [
    {
     "data": {
      "text/plain": [
       "True"
      ]
     },
     "execution_count": 48,
     "metadata": {},
     "output_type": "execute_result"
    }
   ],
   "source": [
    "# in and not in STRINGS\n",
    "'Hello' in 'Hello World'"
   ]
  },
  {
   "cell_type": "code",
   "execution_count": 49,
   "metadata": {},
   "outputs": [
    {
     "data": {
      "text/plain": [
       "False"
      ]
     },
     "execution_count": 49,
     "metadata": {},
     "output_type": "execute_result"
    }
   ],
   "source": [
    "'cats' not in 'cats and dogs'"
   ]
  },
  {
   "cell_type": "markdown",
   "metadata": {},
   "source": [
    "# String Interpolation %s"
   ]
  },
  {
   "cell_type": "code",
   "execution_count": 52,
   "metadata": {},
   "outputs": [
    {
     "data": {
      "text/plain": [
       "'My name is Al. I am 4000 years old.'"
      ]
     },
     "execution_count": 52,
     "metadata": {},
     "output_type": "execute_result"
    }
   ],
   "source": [
    "name = 'Al'\n",
    "age = 4000\n",
    "\n",
    "'My name is %s. I am %s years old.' %(name, age)"
   ]
  },
  {
   "cell_type": "code",
   "execution_count": 56,
   "metadata": {},
   "outputs": [
    {
     "data": {
      "text/plain": [
       "'My name is Al and I will be 4001 next year'"
      ]
     },
     "execution_count": 56,
     "metadata": {},
     "output_type": "execute_result"
    }
   ],
   "source": [
    "# f-strings\n",
    "#include an f at the beginning of the string\n",
    "\n",
    "f'My name is {name} and I will be {age + 1} next year'"
   ]
  },
  {
   "cell_type": "code",
   "execution_count": 61,
   "metadata": {},
   "outputs": [
    {
     "data": {
      "text/plain": [
       "False"
      ]
     },
     "execution_count": 61,
     "metadata": {},
     "output_type": "execute_result"
    }
   ],
   "source": [
    "#Boolean String Logic\n",
    "\n",
    "spam.isupper()   # All upper case\n",
    "spam.islower()   # All lower case\n",
    "spam.isalpha()   # String only contains letters and isn't blank\n",
    "spam.isalnum()   # String only contains letters and numbers and isn't blank\n",
    "spam.isdecimal() # String only contains numbers and isn't blank\n",
    "spam.isspace()   # String only contains spaces, tabs, and/or new lines\n",
    "spam.istitle()   # Sting only contains words that begin with upper case"
   ]
  },
  {
   "cell_type": "code",
   "execution_count": 62,
   "metadata": {},
   "outputs": [
    {
     "data": {
      "text/plain": [
       "True"
      ]
     },
     "execution_count": 62,
     "metadata": {},
     "output_type": "execute_result"
    }
   ],
   "source": [
    "# starts with and ends with \n",
    "\n",
    "'hello world'.startswith('hello')"
   ]
  },
  {
   "cell_type": "code",
   "execution_count": 65,
   "metadata": {},
   "outputs": [
    {
     "data": {
      "text/plain": [
       "True"
      ]
     },
     "execution_count": 65,
     "metadata": {},
     "output_type": "execute_result"
    }
   ],
   "source": [
    "'hello world'.endswith('world')"
   ]
  },
  {
   "cell_type": "markdown",
   "metadata": {},
   "source": [
    "# Join and Split Strings"
   ]
  },
  {
   "cell_type": "code",
   "execution_count": 67,
   "metadata": {},
   "outputs": [
    {
     "data": {
      "text/plain": [
       "'cats, rats, bats'"
      ]
     },
     "execution_count": 67,
     "metadata": {},
     "output_type": "execute_result"
    }
   ],
   "source": [
    "#join is called on string value and is passed to a list value\n",
    "\n",
    "', '.join(['cats', 'rats', 'bats'])"
   ]
  },
  {
   "cell_type": "code",
   "execution_count": 68,
   "metadata": {},
   "outputs": [
    {
     "data": {
      "text/plain": [
       "'2020123has123been123weird'"
      ]
     },
     "execution_count": 68,
     "metadata": {},
     "output_type": "execute_result"
    }
   ],
   "source": [
    "'123'.join(['2020', 'has', 'been', 'weird'])"
   ]
  },
  {
   "cell_type": "code",
   "execution_count": 99,
   "metadata": {},
   "outputs": [
    {
     "data": {
      "text/plain": [
       "['2020', 'has', 'been', 'weird']"
      ]
     },
     "execution_count": 99,
     "metadata": {},
     "output_type": "execute_result"
    }
   ],
   "source": [
    "# split is called on a string value and returns a list of strings\n",
    "\n",
    "'2020123has123been123weird'.split('123')\n",
    "'2020 has been weird'.split()"
   ]
  },
  {
   "cell_type": "code",
   "execution_count": 70,
   "metadata": {},
   "outputs": [
    {
     "data": {
      "text/plain": [
       "['My name i', ' Jule', '']"
      ]
     },
     "execution_count": 70,
     "metadata": {},
     "output_type": "execute_result"
    }
   ],
   "source": [
    "'My name is Jules'.split('s')"
   ]
  },
  {
   "cell_type": "code",
   "execution_count": 71,
   "metadata": {},
   "outputs": [
    {
     "data": {
      "text/plain": [
       "'               hello'"
      ]
     },
     "execution_count": 71,
     "metadata": {},
     "output_type": "execute_result"
    }
   ],
   "source": [
    "'hello'.rjust(20)"
   ]
  },
  {
   "cell_type": "code",
   "execution_count": 73,
   "metadata": {},
   "outputs": [
    {
     "data": {
      "text/plain": [
       "'***************hello'"
      ]
     },
     "execution_count": 73,
     "metadata": {},
     "output_type": "execute_result"
    }
   ],
   "source": [
    "'hello'.rjust(20, '*')"
   ]
  },
  {
   "cell_type": "code",
   "execution_count": 74,
   "metadata": {},
   "outputs": [
    {
     "data": {
      "text/plain": [
       "'hello%%%%%'"
      ]
     },
     "execution_count": 74,
     "metadata": {},
     "output_type": "execute_result"
    }
   ],
   "source": [
    "'hello'.ljust(10, '%')"
   ]
  },
  {
   "cell_type": "code",
   "execution_count": 77,
   "metadata": {},
   "outputs": [
    {
     "data": {
      "text/plain": [
       "'^^^^^^^hello^^^^^^^^'"
      ]
     },
     "execution_count": 77,
     "metadata": {},
     "output_type": "execute_result"
    }
   ],
   "source": [
    "stripped = 'hello'.center(20, '^')\n",
    "stripped"
   ]
  },
  {
   "cell_type": "code",
   "execution_count": 81,
   "metadata": {},
   "outputs": [
    {
     "data": {
      "text/plain": [
       "'hello'"
      ]
     },
     "execution_count": 81,
     "metadata": {},
     "output_type": "execute_result"
    }
   ],
   "source": [
    "double_stripped = stripped.strip('^')\n",
    "double_stripped"
   ]
  },
  {
   "cell_type": "code",
   "execution_count": 94,
   "metadata": {},
   "outputs": [],
   "source": [
    "#! python3\n",
    "# mclip.py - A multi-clipboard program\n",
    "\n",
    "TEXT = {'agree': \"\"\"Yes, I agree. That sounds fine to me.\"\"\",\n",
    "       'busy': \"\"\"Sorry, can we do this later this week or next week?\"\"\",\n",
    "       'upsell': \"\"\"Would you consider making this a monthly deecision\"\"\"}\n",
    "\n",
    "import sys\n",
    "if len(sys.argv) < 2:\n",
    "    print('Usage: python mclip.py [keyphrase] - copy phrase text')\n",
    "    sys.exit()\n",
    "keyphrase = sys.argv[1]  #first command line argument is the keyphrase"
   ]
  },
  {
   "cell_type": "code",
   "execution_count": 98,
   "metadata": {},
   "outputs": [
    {
     "name": "stdout",
     "output_type": "stream",
     "text": [
      "Enter the English message to translate to Pig Latin:\n",
      "My name is Jules and I work at Microsoft\n",
      "Ymay amenay isyay Ulesjay andyay Iyay orkway atyay Icrosoftmay\n"
     ]
    }
   ],
   "source": [
    "#Engligh to Pig Latin\n",
    "\n",
    "print('Enter the English message to translate to Pig Latin:')\n",
    "message = input()\n",
    "VOWLES = ('a', 'e', 'i', 'o', 'u', 'y')\n",
    "\n",
    "pigLatin = [] # A list of the words in Pig Latin\n",
    "for word in message.split():\n",
    "    #Seperate the non-letters at the start of the word \n",
    "    prefixeNonLetters = ''\n",
    "    while len(word) > 0 and not word[0].isalpha():\n",
    "        prefixeNonLetters += word[0]\n",
    "        word = word[1:]\n",
    "    if len(word) == 0:\n",
    "        pigLatin.append(prefixeNonLetters)\n",
    "        continue\n",
    "\n",
    "    #Seperate non letters at the end of the word\n",
    "    suffixNonLetters = ''\n",
    "    while not word[-1].isalpha():\n",
    "        suffixNonLetters += word[1]\n",
    "        word = word[:1]\n",
    "\n",
    "    #Remembers if the word was in upper case or title case\n",
    "    wasUpper = word.isupper()\n",
    "    wasTitle = word.istitle()\n",
    "\n",
    "    word = word.lower() #Make the words lowercase for translation\n",
    "\n",
    "#Seperate the consonates at the start of the word\n",
    "\n",
    "    prefixConsonants = ''\n",
    "    while len(word) > 0 and not word[0] in VOWLES:\n",
    "        prefixConsonants += word[0]\n",
    "        word = word[1:]\n",
    "    \n",
    "#Add the Pig Latin end to the word\n",
    "    if prefixConsonants != '':\n",
    "        word += prefixConsonants + 'ay'\n",
    "    else:\n",
    "        word += 'yay'\n",
    "\n",
    "    #Set the word back to upper caseor title case\n",
    "\n",
    "    if wasUpper:\n",
    "        word = word.upper()\n",
    "    if wasTitle:\n",
    "        word = word.title()\n",
    "    \n",
    "#Add the non-letters back to the start or end of the word \n",
    "    pigLatin.append(prefixeNonLetters + word + suffixNonLetters)\n",
    "    \n",
    "#Join all the words back together into a single string\n",
    "print(' '.join(pigLatin))"
   ]
  },
  {
   "cell_type": "code",
   "execution_count": null,
   "metadata": {},
   "outputs": [],
   "source": [
    "# https://github.com/asweigart/pythonstdiogames/"
   ]
  }
 ],
 "metadata": {
  "kernelspec": {
   "display_name": "Python 3",
   "language": "python",
   "name": "python3"
  },
  "language_info": {
   "codemirror_mode": {
    "name": "ipython",
    "version": 3
   },
   "file_extension": ".py",
   "mimetype": "text/x-python",
   "name": "python",
   "nbconvert_exporter": "python",
   "pygments_lexer": "ipython3",
   "version": "3.7.6"
  }
 },
 "nbformat": 4,
 "nbformat_minor": 4
}
