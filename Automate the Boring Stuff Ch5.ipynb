{
 "cells": [
  {
   "cell_type": "markdown",
   "metadata": {},
   "source": [
    "# Dictoinaries"
   ]
  },
  {
   "cell_type": "code",
   "execution_count": 3,
   "metadata": {},
   "outputs": [
    {
     "name": "stdout",
     "output_type": "stream",
     "text": [
      "Enter a name: (blank to quit)\n",
      "Alice\n",
      "Apr 1 is the birthday of Alice\n",
      "Enter a name: (blank to quit)\n",
      "Jules\n",
      "I do not have birthday info for Jules\n",
      "What is their birthday?\n",
      "May 1\n",
      "Birthday database updated\n",
      "Enter a name: (blank to quit)\n",
      "\n"
     ]
    }
   ],
   "source": [
    "birthdays = {'Alice': 'Apr 1', 'Bob': 'Dec 12', 'Carol': 'Mar 4'}\n",
    "\n",
    "while True:\n",
    "    print('Enter a name: (blank to quit)')\n",
    "    name = input()\n",
    "    if name == '':\n",
    "        break\n",
    "    \n",
    "    if name in birthdays:\n",
    "        print(birthdays[name] + ' is the birthday of ' + name)\n",
    "    else:\n",
    "        print('I do not have birthday info for ' + name)\n",
    "        print('What is their birthday?')\n",
    "        bday = input()\n",
    "        birthdays[name] = bday\n",
    "        print('Birthday database updated')"
   ]
  },
  {
   "cell_type": "code",
   "execution_count": 4,
   "metadata": {},
   "outputs": [
    {
     "data": {
      "text/plain": [
       "{'Alice': 'Apr 1', 'Bob': 'Dec 12', 'Carol': 'Mar 4', 'Jules': 'May 1'}"
      ]
     },
     "execution_count": 4,
     "metadata": {},
     "output_type": "execute_result"
    }
   ],
   "source": [
    "birthdays"
   ]
  },
  {
   "cell_type": "code",
   "execution_count": 5,
   "metadata": {},
   "outputs": [
    {
     "name": "stdout",
     "output_type": "stream",
     "text": [
      "red\n",
      "42\n"
     ]
    }
   ],
   "source": [
    "#itterate over the Values of the dictionary \n",
    "\n",
    "spam = {'color':'red', 'age':42}\n",
    "for v in spam.values():\n",
    "    print(v)"
   ]
  },
  {
   "cell_type": "code",
   "execution_count": 6,
   "metadata": {},
   "outputs": [
    {
     "name": "stdout",
     "output_type": "stream",
     "text": [
      "color\n",
      "age\n"
     ]
    }
   ],
   "source": [
    "#itterate over the Keys of the Dictionary \n",
    "\n",
    "for k in spam.keys():\n",
    "    print(k)"
   ]
  },
  {
   "cell_type": "code",
   "execution_count": 7,
   "metadata": {},
   "outputs": [
    {
     "name": "stdout",
     "output_type": "stream",
     "text": [
      "('color', 'red')\n",
      "('age', 42)\n"
     ]
    }
   ],
   "source": [
    "#itterate over both Keys and Values of the dictionary\n",
    "\n",
    "for i in spam.items():\n",
    "    print(i)"
   ]
  },
  {
   "cell_type": "code",
   "execution_count": 8,
   "metadata": {},
   "outputs": [
    {
     "data": {
      "text/plain": [
       "dict_keys(['color', 'age'])"
      ]
     },
     "execution_count": 8,
     "metadata": {},
     "output_type": "execute_result"
    }
   ],
   "source": [
    "spam.keys()"
   ]
  },
  {
   "cell_type": "code",
   "execution_count": 9,
   "metadata": {},
   "outputs": [
    {
     "data": {
      "text/plain": [
       "['color', 'age']"
      ]
     },
     "execution_count": 9,
     "metadata": {},
     "output_type": "execute_result"
    }
   ],
   "source": [
    "list(spam.keys())"
   ]
  },
  {
   "cell_type": "code",
   "execution_count": 10,
   "metadata": {},
   "outputs": [
    {
     "data": {
      "text/plain": [
       "dict_values(['red', 42])"
      ]
     },
     "execution_count": 10,
     "metadata": {},
     "output_type": "execute_result"
    }
   ],
   "source": [
    "spam.values()"
   ]
  },
  {
   "cell_type": "code",
   "execution_count": 11,
   "metadata": {},
   "outputs": [
    {
     "name": "stdout",
     "output_type": "stream",
     "text": [
      "Key: color Value: red\n",
      "Key: age Value: 42\n"
     ]
    }
   ],
   "source": [
    "for k, v in spam.items():\n",
    "    print('Key: '+ k+ ' Value: ' + str(v))"
   ]
  },
  {
   "cell_type": "code",
   "execution_count": 20,
   "metadata": {},
   "outputs": [
    {
     "data": {
      "text/plain": [
       "True"
      ]
     },
     "execution_count": 20,
     "metadata": {},
     "output_type": "execute_result"
    }
   ],
   "source": [
    "# check to see if a Key or Value exists in a dictionay \n",
    "\n",
    "'age' in spam.keys() and 42 in spam.values()"
   ]
  },
  {
   "cell_type": "code",
   "execution_count": 24,
   "metadata": {},
   "outputs": [],
   "source": [
    "# The get() function \n",
    "\n",
    "picnicItems = {'apples': 5, 'cups':2}"
   ]
  },
  {
   "cell_type": "code",
   "execution_count": 29,
   "metadata": {},
   "outputs": [
    {
     "data": {
      "text/plain": [
       "'I am bringing 2 cups.'"
      ]
     },
     "execution_count": 29,
     "metadata": {},
     "output_type": "execute_result"
    }
   ],
   "source": [
    "'I am bringing ' + str(picnicItems.get('cups', 0)) + ' cups.'\n",
    "\n",
    "# also could have used: picnicItems.get('cups') to return number of cups in dictionary "
   ]
  },
  {
   "cell_type": "code",
   "execution_count": 35,
   "metadata": {},
   "outputs": [
    {
     "data": {
      "text/plain": [
       "'black'"
      ]
     },
     "execution_count": 35,
     "metadata": {},
     "output_type": "execute_result"
    }
   ],
   "source": [
    "#setdefault()  add items to a dictionary \n",
    "\n",
    "spam = {'name':'Pooka', 'age': 5}\n",
    "spam.setdefault('color', 'black')"
   ]
  },
  {
   "cell_type": "code",
   "execution_count": 36,
   "metadata": {},
   "outputs": [
    {
     "data": {
      "text/plain": [
       "{'name': 'Pooka', 'age': 5, 'color': 'black'}"
      ]
     },
     "execution_count": 36,
     "metadata": {},
     "output_type": "execute_result"
    }
   ],
   "source": [
    "spam"
   ]
  },
  {
   "cell_type": "code",
   "execution_count": 64,
   "metadata": {},
   "outputs": [
    {
     "name": "stdout",
     "output_type": "stream",
     "text": [
      "[(' ', 13),\n",
      " (',', 1),\n",
      " ('.', 1),\n",
      " ('A', 1),\n",
      " ('I', 1),\n",
      " ('a', 4),\n",
      " ('b', 1),\n",
      " ('c', 3),\n",
      " ('d', 3),\n",
      " ('e', 5),\n",
      " ('g', 2),\n",
      " ('h', 3),\n",
      " ('i', 6),\n",
      " ('k', 2),\n",
      " ('l', 3),\n",
      " ('n', 4),\n",
      " ('o', 2),\n",
      " ('p', 1),\n",
      " ('r', 5),\n",
      " ('s', 3),\n",
      " ('t', 6),\n",
      " ('w', 2),\n",
      " ('y', 1)]\n"
     ]
    }
   ],
   "source": [
    "#Create a Dictionary to count how many times a character appears\n",
    "#import Pretty Print\n",
    "import pprint\n",
    "\n",
    "message = 'It was a bright cold day in April, and the clocks were striking thirteen.'\n",
    "\n",
    "count = {}\n",
    "for characters in message:\n",
    "    count.setdefault(characters, 0)\n",
    "    count[characters] += 1\n",
    "sorted(count.items())\n",
    "pprint.pprint(sorted(count.items()))\n",
    "#print(count)"
   ]
  },
  {
   "cell_type": "code",
   "execution_count": 86,
   "metadata": {},
   "outputs": [
    {
     "name": "stdout",
     "output_type": "stream",
     "text": [
      "I: 1\n",
      "b: 1\n",
      "y: 1\n",
      "A: 1\n",
      "p: 1\n",
      ",: 1\n",
      ".: 1\n",
      "w: 2\n",
      "g: 2\n",
      "o: 2\n",
      "k: 2\n",
      "s: 3\n",
      "h: 3\n",
      "c: 3\n",
      "l: 3\n",
      "d: 3\n",
      "a: 4\n",
      "n: 4\n",
      "r: 5\n",
      "e: 5\n",
      "t: 6\n",
      "i: 6\n",
      " : 13\n"
     ]
    }
   ],
   "source": [
    "#Sort Values of a Dictionary\n",
    "\n",
    "from collections import OrderedDict\n",
    "d_sorted_by_value = OrderedDict(sorted(count.items(), key=lambda x: x[1]))\n",
    "\n",
    "for k, v in d_sorted_by_value.items():\n",
    "    print (\"%s: %s\" % (k, v))"
   ]
  },
  {
   "cell_type": "markdown",
   "metadata": {},
   "source": [
    "# Tic-Tac-Toe"
   ]
  },
  {
   "cell_type": "code",
   "execution_count": 97,
   "metadata": {},
   "outputs": [],
   "source": [
    "theBoard = {'top-L':' ', 'top-M':' ', 'top-R':' ',\n",
    "           'mid-L':' ', 'mid-M':' ', 'mid-R':' ',\n",
    "           'low-L':' ', 'low-M':' ', 'low-R':' '}"
   ]
  },
  {
   "cell_type": "code",
   "execution_count": 98,
   "metadata": {},
   "outputs": [],
   "source": [
    "#A board where a player has won by placing OOO across the top will look like this:\n",
    "\n",
    "#theBoard = {'top-L':'O', 'top-M':'O', 'top-R':'O',\n",
    "#           'mid-L':'', 'mid-M':'', 'mid-R':'',\n",
    "#           'low-L':'', 'low-M':'', 'low-R':''}"
   ]
  },
  {
   "cell_type": "code",
   "execution_count": 99,
   "metadata": {},
   "outputs": [
    {
     "name": "stdout",
     "output_type": "stream",
     "text": [
      " | | \n",
      "-+-+-\n",
      " | | \n",
      "-+-+-\n",
      " | | \n"
     ]
    }
   ],
   "source": [
    "def printBoard (board):\n",
    "    print(board['top-L'] + '|' + board['top-M'] + '|' + board['top-R'])\n",
    "    print('-+-+-')\n",
    "    print(board['mid-L'] + '|' + board['mid-M'] + '|' + board['mid-R'])\n",
    "    print('-+-+-')\n",
    "    print(board['low-L'] + '|' + board['low-M'] + '|' + board['low-R'])\n",
    "printBoard(theBoard)"
   ]
  },
  {
   "cell_type": "code",
   "execution_count": null,
   "metadata": {},
   "outputs": [],
   "source": [
    "# allow players to insert moves\n",
    "\n",
    "turn = 'X'\n",
    "for i in range (9):\n",
    "    printBoard(theBoard)\n",
    "    print('Turn for ' + turn + ' . Move on which space?')\n",
    "    move = input()\n",
    "    theBoard[move] = turn\n",
    "    if turn == 'X':\n",
    "        turn = 'O'\n",
    "    else:\n",
    "        turn = 'X'\n",
    "    printBoard(theBoard)"
   ]
  }
 ],
 "metadata": {
  "kernelspec": {
   "display_name": "Python 3",
   "language": "python",
   "name": "python3"
  },
  "language_info": {
   "codemirror_mode": {
    "name": "ipython",
    "version": 3
   },
   "file_extension": ".py",
   "mimetype": "text/x-python",
   "name": "python",
   "nbconvert_exporter": "python",
   "pygments_lexer": "ipython3",
   "version": "3.7.6"
  }
 },
 "nbformat": 4,
 "nbformat_minor": 4
}
